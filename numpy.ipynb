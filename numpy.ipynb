{
  "cells": [
    {
      "cell_type": "markdown",
      "metadata": {
        "id": "vC84e9kzyxPy"
      },
      "source": [
        "<h1>Импорт библиотек"
      ]
    },
    {
      "cell_type": "code",
      "execution_count": 1,
      "metadata": {
        "id": "cgKeNegmQG5S"
      },
      "outputs": [
        {
          "ename": "ModuleNotFoundError",
          "evalue": "No module named 'matplotlib'",
          "output_type": "error",
          "traceback": [
            "\u001b[1;31m---------------------------------------------------------------------------\u001b[0m",
            "\u001b[1;31mModuleNotFoundError\u001b[0m                       Traceback (most recent call last)",
            "Cell \u001b[1;32mIn[1], line 2\u001b[0m\n\u001b[0;32m      1\u001b[0m \u001b[38;5;28;01mimport\u001b[39;00m \u001b[38;5;21;01mnumpy\u001b[39;00m \u001b[38;5;28;01mas\u001b[39;00m \u001b[38;5;21;01mnp\u001b[39;00m\n\u001b[1;32m----> 2\u001b[0m \u001b[38;5;28;01mimport\u001b[39;00m \u001b[38;5;21;01mmatplotlib\u001b[39;00m\u001b[38;5;21;01m.\u001b[39;00m\u001b[38;5;21;01mpyplot\u001b[39;00m \u001b[38;5;28;01mas\u001b[39;00m \u001b[38;5;21;01mplt\u001b[39;00m\n",
            "\u001b[1;31mModuleNotFoundError\u001b[0m: No module named 'matplotlib'"
          ]
        }
      ],
      "source": [
        "import numpy as np\n",
        "import matplotlib.pyplot as plt"
      ]
    },
    {
      "cell_type": "markdown",
      "metadata": {
        "id": "qFM9uVU2x4Ls"
      },
      "source": [
        "<h1>Задача 1. Дан набор из $p$ матриц размерностью $(n, n)$ и $p$ векторов размерностью $(n, 1)$, найти сумму произведений матриц на векторы. Написать тесты для кода"
      ]
    },
    {
      "cell_type": "code",
      "execution_count": 2,
      "metadata": {
        "id": "IAbUvEiYyWFF"
      },
      "outputs": [
        {
          "name": "stdout",
          "output_type": "stream",
          "text": [
            "Test 1 result: [[ 7.]\n",
            " [11.]]\n",
            "Test 2 result: [[2.]\n",
            " [2.]]\n",
            "Test 3 result: [[0.]\n",
            " [0.]]\n",
            "All tests passed!\n"
          ]
        }
      ],
      "source": [
        "import numpy as np\n",
        "\n",
        "def sum_prod(X, V):\n",
        "    # Инициализируем нулевой вектор с типом float64\n",
        "    result = np.zeros_like(V[0], dtype=np.float64)\n",
        "    \n",
        "    # Проходим по каждой паре (матрица, вектор) и добавляем произведение к результату\n",
        "    for matrix, vector in zip(X, V):\n",
        "        result += np.dot(matrix, vector)\n",
        "    \n",
        "    return result\n",
        "\n",
        "\n",
        "def test_sum_prod():\n",
        "    # Тест 1: Обычный случай\n",
        "    X = [np.array([[1, 2], [3, 4]]), np.array([[5, 6], [7, 8]])]\n",
        "    V = [np.array([[1], [0]]), np.array([[0], [1]])]\n",
        "    expected = np.array([[1], [3]]) + np.array([[6], [8]])  # Сумма: [1, 3] + [6, 8]\n",
        "    result = sum_prod(X, V)\n",
        "    print(\"Test 1 result:\", result)\n",
        "    assert np.array_equal(result, expected), \"Test 1 failed\"\n",
        "\n",
        "    # Тест 2: Единичные матрицы\n",
        "    X = [np.eye(2), np.eye(2)]\n",
        "    V = [np.array([[1], [1]]), np.array([[1], [1]])]\n",
        "    expected = np.array([[1], [1]]) + np.array([[1], [1]])  # Сумма: [1, 1] + [1, 1]\n",
        "    result = sum_prod(X, V)\n",
        "    print(\"Test 2 result:\", result)\n",
        "    assert np.array_equal(result, expected), \"Test 2 failed\"\n",
        "    \n",
        "    # Тест 3: Матрицы с нулями\n",
        "    X = [np.array([[0, 0], [0, 0]]), np.array([[0, 0], [0, 0]])]\n",
        "    V = [np.array([[1], [1]]), np.array([[1], [1]])]\n",
        "    expected = np.array([[0], [0]])  # Сумма: [0, 0] + [0, 0]\n",
        "    result = sum_prod(X, V)\n",
        "    print(\"Test 3 result:\", result)\n",
        "    assert np.array_equal(result, expected), \"Test 3 failed\"\n",
        "    \n",
        "    print(\"All tests passed!\")\n",
        "\n",
        "test_sum_prod()"
      ]
    },
    {
      "cell_type": "markdown",
      "metadata": {
        "id": "TKwPG4fIy2w4"
      },
      "source": [
        "<h1>Задача 2. Дана матрица M, напишите функцию, которая бинаризует матрицу по некоторому threshold (то есть, все значения большие threshold становятся равными 1, иначе 0). Напишите тесты для кода"
      ]
    },
    {
      "cell_type": "code",
      "execution_count": null,
      "metadata": {
        "id": "KQDNMgsjRNH7"
      },
      "outputs": [
        {
          "ename": "",
          "evalue": "",
          "output_type": "error",
          "traceback": [
            "\u001b[1;31mДля выполнения ячеек с \"Python 3.13.0\" требуется пакет ipykernel.\n",
            "\u001b[1;31mВыполните следующую команду, чтобы установить \"ipykernel\" в среде Python. \n",
            "\u001b[1;31mКоманда: \"c:/Users/Кирилл/AppData/Local/Programs/Python/Python313/python.exe -m pip install ipykernel -U --user --force-reinstall\""
          ]
        }
      ],
      "source": [
        "import numpy as np\n",
        "\n",
        "def binarize(M, threshold=0.5):\n",
        "    return (M > threshold).astype(int)\n",
        "\n",
        "def test_binarize():\n",
        "    # Тест 1: Простая матрица\n",
        "    M = np.array([[0.1, 0.6], [0.4, 0.8]])\n",
        "    threshold = 0.5\n",
        "    expected = np.array([[0, 1], [0, 1]])\n",
        "    result = binarize(M, threshold)\n",
        "    print(\"Test 1 result:\", result)\n",
        "    assert np.array_equal(result, expected), \"Test 1 failed\"\n",
        "\n",
        "    # Тест 2: Матрица с отрицательными значениями\n",
        "    M = np.array([[-0.5, 0.5], [0.7, -0.1]])\n",
        "    threshold = 0\n",
        "    expected = np.array([[0, 1], [1, 0]])\n",
        "    result = binarize(M, threshold)\n",
        "    print(\"Test 2 result:\", result)\n",
        "    assert np.array_equal(result, expected), \"Test 2 failed\"\n",
        "\n",
        "    # Тест 3: Матрица с большим threshold\n",
        "    M = np.array([[1, 2], [3, 4]])\n",
        "    threshold = 3\n",
        "    expected = np.array([[0, 0], [0, 1]])\n",
        "    result = binarize(M, threshold)\n",
        "    print(\"Test 3 result:\", result)\n",
        "    assert np.array_equal(result, expected), \"Test 3 failed\"\n",
        "\n",
        "    # Тест 4: Матрица с единым значением\n",
        "    M = np.array([[0.5, 0.5], [0.5, 0.5]])\n",
        "    threshold = 0.5\n",
        "    expected = np.array([[0, 0], [0, 0]])  # Значения не строго больше 0.5\n",
        "    result = binarize(M, threshold)\n",
        "    print(\"Test 4 result:\", result)\n",
        "    assert np.array_equal(result, expected), \"Test 4 failed\"\n",
        "    \n",
        "    print(\"All tests passed!\")\n",
        "\n",
        "test_binarize()"
      ]
    },
    {
      "cell_type": "markdown",
      "metadata": {
        "id": "IY5L-h-7zWhN"
      },
      "source": [
        "<h1>Задача 3. Напишите функцию, которая возвращает уникальные элементы из каждой строки матрицы. Напишите такую же функцию, но для столбцов. Напишите тесты для кода"
      ]
    },
    {
      "cell_type": "code",
      "execution_count": null,
      "metadata": {
        "id": "-8dEZhR0SBC-"
      },
      "outputs": [
        {
          "ename": "",
          "evalue": "",
          "output_type": "error",
          "traceback": [
            "\u001b[1;31mДля выполнения ячеек с \"Python 3.13.0\" требуется пакет ipykernel.\n",
            "\u001b[1;31mВыполните следующую команду, чтобы установить \"ipykernel\" в среде Python. \n",
            "\u001b[1;31mКоманда: \"c:/Users/Кирилл/AppData/Local/Programs/Python/Python313/python.exe -m pip install ipykernel -U --user --force-reinstall\""
          ]
        }
      ],
      "source": [
        "def unique_rows(mat):\n",
        "    return [np.unique(row) for row in mat]\n",
        "\n",
        "def unique_columns(mat):\n",
        "    return [np.unique(col) for col in mat.T]  \n",
        "\n",
        "def test_unique_rows():\n",
        "    # Тест 1: Матрица с повторяющимися элементами в строках\n",
        "    mat = np.array([[1, 2, 2], [3, 3, 3], [4, 5, 5]])\n",
        "    expected = [np.array([1, 2]), np.array([3]), np.array([4, 5])]\n",
        "    result = unique_rows(mat)\n",
        "    print(\"Test 1 result:\", result)\n",
        "    assert all(np.array_equal(r, e) for r, e in zip(result, expected)), \"Test 1 failed\"\n",
        "\n",
        "    # Тест 2: Матрица без повторов\n",
        "    mat = np.array([[1, 2, 3], [4, 5, 6], [7, 8, 9]])\n",
        "    expected = [np.array([1, 2, 3]), np.array([4, 5, 6]), np.array([7, 8, 9])]\n",
        "    result = unique_rows(mat)\n",
        "    print(\"Test 2 result:\", result)\n",
        "    assert all(np.array_equal(r, e) for r, e in zip(result, expected)), \"Test 2 failed\"\n",
        "    \n",
        "    print(\"All unique_rows tests passed!\")\n",
        "\n",
        "def test_unique_columns():\n",
        "    # Тест 1: Матрица с повторяющимися элементами в столбцах\n",
        "    mat = np.array([[1, 2, 3], [1, 2, 3], [1, 3, 3]])\n",
        "    expected = [np.array([1]), np.array([2, 3]), np.array([3])]\n",
        "    result = unique_columns(mat)\n",
        "    print(\"Test 1 result:\", result)\n",
        "    assert all(np.array_equal(r, e) for r, e in zip(result, expected)), \"Test 1 failed\"\n",
        "    \n",
        "    # Тест 2: Матрица с разными значениями в столбцах\n",
        "    mat = np.array([[1, 4, 7], [2, 5, 8], [3, 6, 9]])\n",
        "    expected = [np.array([1, 2, 3]), np.array([4, 5, 6]), np.array([7, 8, 9])]\n",
        "    result = unique_columns(mat)\n",
        "    print(\"Test 2 result:\", result)\n",
        "    assert all(np.array_equal(r, e) for r, e in zip(result, expected)), \"Test 2 failed\"\n",
        "\n",
        "test_unique_rows()\n",
        "test_unique_columns()"
      ]
    },
    {
      "cell_type": "markdown",
      "metadata": {
        "id": "roYAlo4Jz-lH"
      },
      "source": [
        "<h1>Задача 4. Напишите функцию, которая заполняет матрицу с размерами $(m, n)$ случайными числами, распределенными по нормальному закону. Затем считает мат. ожидание и дисперсию для каждого из столбцов и строк, а также строит для каждой строки и столбца гистограмму значений (использовать функцию hist из модуля matplotlib.plot)"
      ]
    },
    {
      "cell_type": "code",
      "execution_count": null,
      "metadata": {
        "id": "nZK_71hMSQzv"
      },
      "outputs": [
        {
          "ename": "",
          "evalue": "",
          "output_type": "error",
          "traceback": [
            "\u001b[1;31mДля выполнения ячеек с \"Python 3.13.0\" требуется пакет ipykernel.\n",
            "\u001b[1;31mВыполните следующую команду, чтобы установить \"ipykernel\" в среде Python. \n",
            "\u001b[1;31mКоманда: \"c:/Users/Кирилл/AppData/Local/Programs/Python/Python313/python.exe -m pip install ipykernel -U --user --force-reinstall\""
          ]
        }
      ],
      "source": [
        "import numpy as np\n",
        "import matplotlib.pyplot as plt\n",
        "\n",
        "def generate_matrix_and_stats(m, n):\n",
        "    #Создаём матрицу случайных чисел, распределённых по нормальному закону\n",
        "    mat = np.random.normal(loc=0, scale=1, size=(m, n))\n",
        "    \n",
        "    #Вычисление математического ожидания и дисперсии для строк и столбцов\n",
        "    row_means = np.mean(mat, axis=1)  # Среднее по каждой строке\n",
        "    row_vars = np.var(mat, axis=1)    # Дисперсия по каждой строке\n",
        "    \n",
        "    col_means = np.mean(mat, axis=0)  # Среднее по каждому столбцу\n",
        "    col_vars = np.var(mat, axis=0)    # Дисперсия по каждому столбцу\n",
        "    \n",
        "    print(\"Матрица:\\n\", mat)\n",
        "    print(\"Математическое ожидание по строкам:\", row_means)\n",
        "    print(\"Дисперсия по строкам:\", row_vars)\n",
        "    print(\"Математическое ожидание по столбцам:\", col_means)\n",
        "    print(\"Дисперсия по столбцам:\", col_vars)\n",
        "\n",
        "    #Построение гистограмм для каждой строки\n",
        "    for i in range(m):\n",
        "        plt.figure()\n",
        "        plt.hist(mat[i, :], bins=10, alpha=0.75, color='blue')\n",
        "        plt.title(f'Гистограмма значений для строки {i+1}')\n",
        "        plt.xlabel('Значения')\n",
        "        plt.ylabel('Частота')\n",
        "        plt.show()\n",
        "\n",
        "    # Построение гистограмм для каждого столбца\n",
        "    for j in range(n):\n",
        "        plt.figure()\n",
        "        plt.hist(mat[:, j], bins=10, alpha=0.75, color='green')\n",
        "        plt.title(f'Гистограмма значений для столбца {j+1}')\n",
        "        plt.xlabel('Значения')\n",
        "        plt.ylabel('Частота')\n",
        "        plt.show()"
      ]
    },
    {
      "cell_type": "markdown",
      "metadata": {
        "id": "BDyATNdM0dJ2"
      },
      "source": [
        "<h1>Задача 5. Напишите функцию, которая заполняет матрицу $(m, n)$ в шахматном порядке заданными числами $a$ и $b$. Напишите тесты для кода"
      ]
    },
    {
      "cell_type": "code",
      "execution_count": null,
      "metadata": {
        "id": "RWNJYWQGecS6"
      },
      "outputs": [
        {
          "ename": "",
          "evalue": "",
          "output_type": "error",
          "traceback": [
            "\u001b[1;31mДля выполнения ячеек с \"Python 3.13.0\" требуется пакет ipykernel.\n",
            "\u001b[1;31mВыполните следующую команду, чтобы установить \"ipykernel\" в среде Python. \n",
            "\u001b[1;31mКоманда: \"c:/Users/Кирилл/AppData/Local/Programs/Python/Python313/python.exe -m pip install ipykernel -U --user --force-reinstall\""
          ]
        }
      ],
      "source": [
        "def chess(m, n, a, b):\n",
        "    # Создаем матрицу с чередованием индексов: (i + j) % 2 == 0 -> a, иначе b\n",
        "    return np.fromfunction(lambda i, j: np.where((i + j) % 2 == 0, a, b), (m, n), dtype=int)\n",
        "\n",
        "def test_chess():\n",
        "    # Тест 1: 2x2 матрица\n",
        "    result = chess(2, 2, 1, 0)\n",
        "    expected = np.array([[1, 0], [0, 1]])\n",
        "    print(\"Test 1 result:\\n\", result)\n",
        "    assert np.array_equal(result, expected), \"Test 1 failed\"\n",
        "    \n",
        "    # Тест 2: 3x3 матрица\n",
        "    result = chess(3, 3, 5, 9)\n",
        "    expected = np.array([[5, 9, 5], [9, 5, 9], [5, 9, 5]])\n",
        "    print(\"Test 2 result:\\n\", result)\n",
        "    assert np.array_equal(result, expected), \"Test 2 failed\"\n",
        "    \n",
        "    # Тест 3: 4x5 матрица\n",
        "    result = chess(4, 5, 2, 7)\n",
        "    expected = np.array([[2, 7, 2, 7, 2], [7, 2, 7, 2, 7], [2, 7, 2, 7, 2], [7, 2, 7, 2, 7]])\n",
        "    print(\"Test 3 result:\\n\", result)\n",
        "    assert np.array_equal(result, expected), \"Test 3 failed\"\n",
        "\n",
        "test_chess()\n",
        "\n"
      ]
    },
    {
      "cell_type": "markdown",
      "metadata": {
        "id": "-ymXLtTN0vB6"
      },
      "source": [
        "<h1>Задача 6. Напишите функцию, которая отрисовывает прямоугольник с заданными размерами (a, b) на изображении размера (m, n), цвет фона задайте в схеме RGB, как и цвет прямоугольника. Цвета также должны быть параметрами функции. Напишите аналогичную функцию но для овала с полуосями a и b. Напишите тесты для кода.\n",
        "Примечание: уравнение эллипса (границы овала) можно записать как:\n",
        "<h1>$\\frac{(x-x_0)^2}{a^2}+\\frac{(y-y_0)^2}{b^2}=1$"
      ]
    },
    {
      "cell_type": "code",
      "execution_count": null,
      "metadata": {
        "id": "sNfl1t_kfOF4"
      },
      "outputs": [
        {
          "ename": "",
          "evalue": "",
          "output_type": "error",
          "traceback": [
            "\u001b[1;31mДля выполнения ячеек с \"Python 3.13.0\" требуется пакет ipykernel.\n",
            "\u001b[1;31mВыполните следующую команду, чтобы установить \"ipykernel\" в среде Python. \n",
            "\u001b[1;31mКоманда: \"c:/Users/Кирилл/AppData/Local/Programs/Python/Python313/python.exe -m pip install ipykernel -U --user --force-reinstall\""
          ]
        }
      ],
      "source": [
        "def draw_rectangle(a, b, m, n, rectangle_color, background_color):\n",
        "    # Your code goes here\n",
        "    pass\n",
        "\n",
        "def draw_ellipse(a, b, m, n, ellipse_color, background_color):\n",
        "    # Your code goes here\n",
        "    pass"
      ]
    },
    {
      "cell_type": "markdown",
      "metadata": {
        "id": "S82c38oz244H"
      },
      "source": [
        "<h1>Задача 7. Дан некий временной ряд. Для данного ряда нужно найти его: математическое ожидание, дисперсию, СКО, найти все локальные максимумы и минимумы (локальный максимум - это точка, которая больше своих соседних точек, а локальный минимум - это точка, которая меньше своих соседей), а также вычислить для данного ряда другой ряд, получаемый методом скользящего среднего с размером окна $p$.\n",
        "<h1>Примечание: метод скользящего среднего подразумевает нахождение среднего из подмножетсва ряда размером $p$"
      ]
    },
    {
      "cell_type": "code",
      "execution_count": null,
      "metadata": {
        "id": "Zb9mIVge5MMt"
      },
      "outputs": [
        {
          "ename": "",
          "evalue": "",
          "output_type": "error",
          "traceback": [
            "\u001b[1;31mДля выполнения ячеек с \"Python 3.13.0\" требуется пакет ipykernel.\n",
            "\u001b[1;31mВыполните следующую команду, чтобы установить \"ipykernel\" в среде Python. \n",
            "\u001b[1;31mКоманда: \"c:/Users/Кирилл/AppData/Local/Programs/Python/Python313/python.exe -m pip install ipykernel -U --user --force-reinstall\""
          ]
        }
      ],
      "source": [
        "# Your code goes here"
      ]
    },
    {
      "cell_type": "markdown",
      "metadata": {
        "id": "jPkylmOX5O9n"
      },
      "source": [
        "<h1> Задача 8. Дан некоторый вектор с целочисленными метками классов, напишите функцию, которая выполняет one-hot-encoding для данного вектора\n",
        "<h1> One-hot-encoding - представление, в котором на месте метки некоторого класса стоит 1, в остальных позициях стоит 0. Например для вектора [0, 2, 3, 0] one-hot-encoding выглядит как: [[1, 0, 0, 0], [0, 0, 1, 0], [0, 0, 0, 1], [1, 0, 0, 0]]"
      ]
    },
    {
      "cell_type": "code",
      "execution_count": null,
      "metadata": {
        "id": "Y-jlnZvw56lD"
      },
      "outputs": [
        {
          "ename": "",
          "evalue": "",
          "output_type": "error",
          "traceback": [
            "\u001b[1;31mДля выполнения ячеек с \"Python 3.13.0\" требуется пакет ipykernel.\n",
            "\u001b[1;31mВыполните следующую команду, чтобы установить \"ipykernel\" в среде Python. \n",
            "\u001b[1;31mКоманда: \"c:/Users/Кирилл/AppData/Local/Programs/Python/Python313/python.exe -m pip install ipykernel -U --user --force-reinstall\""
          ]
        }
      ],
      "source": [
        "# Your code goes here"
      ]
    }
  ],
  "metadata": {
    "colab": {
      "provenance": []
    },
    "kernelspec": {
      "display_name": "Python 3",
      "name": "python3"
    },
    "language_info": {
      "codemirror_mode": {
        "name": "ipython",
        "version": 3
      },
      "file_extension": ".py",
      "mimetype": "text/x-python",
      "name": "python",
      "nbconvert_exporter": "python",
      "pygments_lexer": "ipython3",
      "version": "3.13.0"
    }
  },
  "nbformat": 4,
  "nbformat_minor": 0
}
