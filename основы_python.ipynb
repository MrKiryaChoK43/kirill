{
  "cells": [
    {
      "cell_type": "markdown",
      "metadata": {
        "id": "M-DGa20PaHnu"
      },
      "source": [
        "#Задача 1\n",
        "Написать функцию на вход которой подается строка, состоящая из латинских букв.\n",
        "Функция должна вернуть количество гласных букв (a, e, i, o, u) в этой строке. Написать тесты для кода"
      ]
    },
    {
      "cell_type": "code",
      "execution_count": null,
      "metadata": {
        "id": "XvX8X_JJ6PCb"
      },
      "outputs": [],
      "source": [
        "import unittest\n",
        "\n",
        "def return_vowels(x):\n",
        "    x = x.lower()  # Приводим строку к нижнему регистру\n",
        "    vowels = \"aeiou\"  # Список гласных\n",
        "    s = 0\n",
        "    for char in x:\n",
        "        if char in vowels:\n",
        "            s += 1\n",
        "    return s\n",
        "\n",
        "class TestReturnVowels(unittest.TestCase):\n",
        "    \n",
        "    # Тест для базового случая\n",
        "    def test_vowels_count(self):\n",
        "        self.assertEqual(return_vowels(\"hello\"), 2)  # 'e', 'o'\n",
        "        self.assertEqual(return_vowels(\"world\"), 1)  # 'o'\n",
        "        self.assertEqual(return_vowels(\"aeiou\"), 5)  # Все гласные\n",
        "        self.assertEqual(return_vowels(\"bcdfgh\"), 0)  # Нет гласных\n",
        "        self.assertEqual(return_vowels(\"\"), 0)  # Пустая строка\n",
        "\n",
        "    # Тест с заглавными буквами\n",
        "    def test_uppercase_vowels(self):\n",
        "        self.assertEqual(return_vowels(\"HELLO\"), 2)  # 'E', 'O'\n",
        "        self.assertEqual(return_vowels(\"WORLD\"), 1)  # 'O'\n",
        "        self.assertEqual(return_vowels(\"AeIoU\"), 5)  # Гласные в разном регистре\n",
        "\n",
        "    # Тест с повторяющимися символами\n",
        "    def test_repeated_vowels(self):\n",
        "        self.assertEqual(return_vowels(\"aaa\"), 3)  # Три 'a'\n",
        "        self.assertEqual(return_vowels(\"eeeiioouu\"), 9)  # Все гласные, каждая повторяется несколько раз\n",
        "    \n",
        "    # Тест на случай строки с другими символами\n",
        "    def test_string_with_special_characters(self):\n",
        "        self.assertEqual(return_vowels(\"12345!@#aeiou\"), 5)  # Только гласные считаются, другие символы игнорируются\n",
        "        self.assertEqual(return_vowels(\"aAeEiIoOuU123\"), 10)  # Все гласные в разных регистрах, игнорируем числа\n",
        "\n",
        "# Запуск тестов\n",
        "if __name__ == \"__main__\":\n",
        "    unittest.main()\n",
        "        "
      ]
    },
    {
      "cell_type": "markdown",
      "metadata": {
        "id": "t2ClV_Y0bbr6"
      },
      "source": [
        "# Задача 2\n",
        "Написать функцию на вход, которой подается строка. Функция должна вернуть true, если\n",
        "каждый символ в строке встречается только 1 раз, иначе должна вернуть false. Написать тесты для кода"
      ]
    },
    {
      "cell_type": "code",
      "execution_count": null,
      "metadata": {
        "id": "FppbECao6VIz"
      },
      "outputs": [],
      "source": [
        "import unittest\n",
        "\n",
        "def is_unique_chars(s):\n",
        "    return len(s) == len(set(s))  # Преобразуем строку в множество, которое хранит только уникальные элементы\n",
        "\n",
        "# Класс для тестов\n",
        "class TestIsUniqueChars(unittest.TestCase):\n",
        "    \n",
        "    # Тест для строки, где все символы уникальны\n",
        "    def test_unique_chars(self):\n",
        "        self.assertTrue(is_unique_chars(\"abc\"))  \n",
        "        self.assertTrue(is_unique_chars(\"1234567890\"))  \n",
        "        self.assertTrue(is_unique_chars(\"AaBbCc\"))  \n",
        "\n",
        "    # Тест для строки с повторяющимися символами\n",
        "    def test_non_unique_chars(self):\n",
        "        self.assertFalse(is_unique_chars(\"aabc\"))  \n",
        "        self.assertFalse(is_unique_chars(\"112233\"))  \n",
        "        self.assertFalse(is_unique_chars(\"hello\"))  \n",
        "\n",
        "    # Тест для пустой строки\n",
        "    def test_empty_string(self):\n",
        "        self.assertTrue(is_unique_chars(\"\"))  \n",
        "\n",
        "    # Тест для строки с одним символом\n",
        "    def test_single_char_string(self):\n",
        "        self.assertTrue(is_unique_chars(\"a\"))  \n",
        "\n",
        "# Запуск тестов\n",
        "if __name__ == \"__main__\":\n",
        "    unittest.main()"
      ]
    },
    {
      "cell_type": "markdown",
      "metadata": {
        "id": "udRiIK1cdt6E"
      },
      "source": [
        "# Задача 3\n",
        "Написать функцию, которая принимает положительное число и возвращает количество\n",
        "бит равных 1 в этом числе. Написать тесты для кода"
      ]
    },
    {
      "cell_type": "code",
      "execution_count": null,
      "metadata": {
        "id": "6tkfDJRz6dp_"
      },
      "outputs": [],
      "source": [
        "import unittest\n",
        "\n",
        "def count_bits(n):\n",
        "    return bin(n).count('1')\n",
        "\n",
        "\n",
        "class TestCountBits(unittest.TestCase):\n",
        "    def test_zero(self):\n",
        "        self.assertEqual(count_bits(0), 0)  # В двоичном представлении 0 -> 0\n",
        "\n",
        "    def test_one(self):\n",
        "        self.assertEqual(count_bits(1), 1)  # В двоичном представлении 1 -> 1\n",
        "\n",
        "    def test_two(self):\n",
        "        self.assertEqual(count_bits(2), 1)  # В двоичном представлении 2 -> 10\n",
        "\n",
        "    def test_three(self):\n",
        "        self.assertEqual(count_bits(3), 2)  # В двоичном представлении 3 -> 11\n",
        "\n",
        "    def test_large_number(self):\n",
        "        self.assertEqual(count_bits(1023), 10)  # В двоичном представлении 1023 -> 1111111111\n",
        "\n",
        "if __name__ == '__main__':\n",
        "    unittest.main()"
      ]
    },
    {
      "cell_type": "markdown",
      "metadata": {
        "id": "26dDUz-Ae17N"
      },
      "source": [
        "# Задача 4\n",
        "Написать функцию, которая принимает положительное число. Функция должна вернуть то,\n",
        "сколько раз необходимо перемножать цифры числа или результат перемножения, чтобы\n",
        "получилось число состоящее из одной цифры.\n",
        "Например, для входного числа:\n",
        "· 39 функция должна вернуть 3, так как 3*9=27 => 2*7=14 => 1*4=4\n",
        "· 4 функция должна вернуть 0, так как число уже состоит из одной цифры\n",
        "· 999 функция должна вернуть 4, так как 9*9*9=729 => 7*2*9=126 => 1*2*6=12 =>\n",
        "1*2=2. Написать тесты для кода"
      ]
    },
    {
      "cell_type": "code",
      "execution_count": null,
      "metadata": {
        "id": "BH1A_Mgi6i4G"
      },
      "outputs": [],
      "source": [
        "import unittest\n",
        "\n",
        "def magic(m):\n",
        "    n = m\n",
        "    count = 0\n",
        "    while len(str(n)) > 1:\n",
        "        str_n = str (n)\n",
        "        k = len(str_n)-1 \n",
        "        x = 1\n",
        "        while k >= 0:\n",
        "            x *= int(str_n[k])\n",
        "            k -=1\n",
        "        count +=1\n",
        "        n = x\n",
        "    return count\n",
        "\n",
        "print (magic(0))\n",
        "\n",
        "class TestMagicFunction(unittest.TestCase):\n",
        "    def test_single_digit(self):\n",
        "        self.assertEqual(magic(4), 0)  # Однозначное число\n",
        "        self.assertEqual(magic(9), 0)  # Однозначное число\n",
        "\n",
        "    def test_double_digit(self):\n",
        "        self.assertEqual(magic(39), 3)  # 3*9=27 => 2*7=14 => 1*4=4\n",
        "        self.assertEqual(magic(45), 2)  # 4*5=20 => 2*0=0\n",
        "        self.assertEqual(magic(10), 1)  # 1*0=0\n",
        "\n",
        "    def test_triple_digit(self):\n",
        "        self.assertEqual(magic(999), 4)  # 9*9*9=729 => 7*2*9=126 => 1*2*6=12 => 1*2=2\n",
        "        self.assertEqual(magic(123), 1)  # 1*2*3=6\n",
        "\n",
        "    def test_large_number(self):\n",
        "        self.assertEqual(magic(123456), 2)  # Проверка на большом числе\n",
        "\n",
        "    def test_edge_cases(self):\n",
        "        self.assertEqual(magic(0), 0)  # Ноль (хотя по условию задачи должно быть положительное число)\n",
        "        self.assertEqual(magic(100), 1)  # 1*0*0=0\n",
        "\n",
        "if __name__ == '__main__':\n",
        "    unittest.main()"
      ]
    },
    {
      "cell_type": "markdown",
      "metadata": {
        "id": "0nS-kIa8g8vd"
      },
      "source": [
        "# Задача 5\n",
        "Написать функцию, которая принимает два целочисленных вектора одинаковой длины и\n",
        "возвращает среднеквадратическое отклонение двух векторов. Написать тесты для кода"
      ]
    },
    {
      "cell_type": "code",
      "execution_count": null,
      "metadata": {
        "id": "8iphx4LM6xbx"
      },
      "outputs": [],
      "source": [
        "import math\n",
        "import unittest\n",
        "\n",
        "def mse(pred, true):\n",
        "    if len(pred) != len(true):\n",
        "        raise ValueError(\"Векторы должны быть одинаковой длины\")\n",
        "    if len(pred) == 0:\n",
        "        raise ValueError(\"Векторы не должны быть пустыми\")\n",
        "\n",
        "    n = len(pred)\n",
        "    error_sum = sum((p - t) ** 2 for p, t in zip(pred, true))\n",
        "    return math.sqrt(error_sum / n)  # Возвращаем среднеквадратическое отклонение\n",
        "\n",
        "# Тесты\n",
        "class TestMSEFunction(unittest.TestCase):\n",
        "    def test_equal_vectors(self):\n",
        "        vec1 = [1, 2, 3]\n",
        "        vec2 = [1, 2, 3]\n",
        "        self.assertEqual(mse(vec1, vec2), 0.0)  # Ожидаем, что MSE равно 0\n",
        "\n",
        "    def test_different_vectors(self):\n",
        "        vec1 = [1, 2, 3]\n",
        "        vec2 = [4, 5, 6]\n",
        "        self.assertAlmostEqual(mse(vec1, vec2), 3.0)  # Ожидаем MSE равно 3.0\n",
        "\n",
        "    def test_negative_numbers(self):\n",
        "        vec1 = [-1, -2, -3]\n",
        "        vec2 = [-4, -5, -6]\n",
        "        self.assertAlmostEqual(mse(vec1, vec2), 3.0)  # Ожидаем MSE равно 3.0\n",
        "\n",
        "    def test_mixed_numbers(self):\n",
        "        vec1 = [1, -2, 3]\n",
        "        vec2 = [4, 5, -6]\n",
        "        self.assertAlmostEqual(mse(vec1, vec2), 6.8068592855540455, places=7)  # Обновлено ожидаемое значение\n",
        "\n",
        "    def test_empty_vectors(self):\n",
        "        vec1 = []\n",
        "        vec2 = []\n",
        "        with self.assertRaises(ValueError):\n",
        "            mse(vec1, vec2)  # Ожидаем ошибку при пустых векторах\n",
        "\n",
        "    def test_different_lengths(self):\n",
        "        vec1 = [1, 2]\n",
        "        vec2 = [1, 2, 3]\n",
        "        with self.assertRaises(ValueError):\n",
        "            mse(vec1, vec2)  # Ожидаем ошибку при разной длине\n",
        "\n",
        "if __name__ == '__main__':\n",
        "    unittest.main()\n",
        "\n"
      ]
    },
    {
      "cell_type": "markdown",
      "metadata": {
        "id": "vpIPKL439zkw"
      },
      "source": [
        "# Задача 6\n",
        "Написать функцию, принимающая целое положительное число. Функция должна вернуть\n",
        "строку вида “(n1**p1)(n2**p2)…(nk**pk)” представляющая разложение числа на простые\n",
        "множители (если pi == 1, то выводить только ni).\n",
        "Например, для числа 86240 функция должна вернуть “(2**5)(5)(7**2)(11)”. Написать тесты для кода"
      ]
    },
    {
      "cell_type": "code",
      "execution_count": null,
      "metadata": {
        "id": "pFebmcZk94Jw"
      },
      "outputs": [],
      "source": [
        "import unittest\n",
        "\n",
        "def prime_factorization(n):\n",
        "    factors = {}\n",
        "    # Проверка делимости на 2\n",
        "    while n % 2 == 0:\n",
        "        factors[2] = factors.get(2, 0) + 1\n",
        "        n //= 2\n",
        "    \n",
        "    # Проверка делимости на нечетные числа\n",
        "    for i in range(3, int(n**0.5) + 1, 2):\n",
        "        while n % i == 0:\n",
        "            factors[i] = factors.get(i, 0) + 1\n",
        "            n //= i\n",
        "    \n",
        "    # Если n стало больше 2, то n является простым числом\n",
        "    if n > 2:\n",
        "        factors[n] = factors.get(n, 0) + 1\n",
        "\n",
        "    # Формирование строки результата\n",
        "    result = ''.join(f'({k}**{v})' if v > 1 else f'({k})' for k, v in factors.items())\n",
        "    return result\n",
        "\n",
        "\n",
        "class TestPrimeFactorization(unittest.TestCase):\n",
        "    def test_positive_numbers(self):\n",
        "        self.assertEqual(prime_factorization(86240), \"(2**5)(5)(7**2)(11)\")\n",
        "        self.assertEqual(prime_factorization(100), \"(2**2)(5**2)\")\n",
        "        self.assertEqual(prime_factorization(28), \"(2**2)(7)\")\n",
        "        self.assertEqual(prime_factorization(37), \"(37)\")  # 37 — простое число\n",
        "        self.assertEqual(prime_factorization(1), \"\")  # 1 не имеет простых множителей\n",
        "\n",
        "    def test_large_number(self):\n",
        "        self.assertEqual(prime_factorization(360), \"(2**3)(3**2)(5)\")  # 360 = 2^3 * 3^2 * 5\n",
        "\n",
        "if __name__ == '__main__':\n",
        "    unittest.main()\n"
      ]
    },
    {
      "cell_type": "markdown",
      "metadata": {
        "id": "ps2s0BudX7A2"
      },
      "source": [
        "# Задача 7\n",
        "Написать функцию, принимающая целое число n, задающее количество кубиков. Функция\n",
        "должна определить, можно ли из данного кол-ва кубиков построить пирамиду, то есть\n",
        "можно ли представить число n как 1^2+2^2+3^2+…+k^2. Если можно, то функция должна\n",
        "вернуть k, иначе строку “It is impossible”. Написать тесты для кода"
      ]
    },
    {
      "cell_type": "code",
      "execution_count": null,
      "metadata": {
        "id": "3YPjEXxhX_YT"
      },
      "outputs": [],
      "source": [
        "import unittest\n",
        "\n",
        "def pyramid(number):\n",
        "    if number < 1:\n",
        "        return \"It is impossible\"\n",
        "    \n",
        "    k = 1\n",
        "    total = 0\n",
        "\n",
        "    while total < number:\n",
        "        total += k ** 2\n",
        "        if total == number:\n",
        "            return k\n",
        "        k += 1\n",
        "\n",
        "    return \"It is impossible\"\n",
        "\n",
        "\n",
        "class TestPyramidBlocks(unittest.TestCase):\n",
        "    def test_perfect_square_pyramid(self):\n",
        "        self.assertEqual(pyramid(1), 1)      # 1^2 = 1\n",
        "        self.assertEqual(pyramid(5), 2)      # 1^2 + 2^2 = 5\n",
        "        self.assertEqual(pyramid(14), 3)     # 1^2 + 2^2 + 3^2 = 14\n",
        "        self.assertEqual(pyramid(30), 4)     # 1^2 + 2^2 + 3^2 + 4^2 = 30\n",
        "        self.assertEqual(pyramid(55), 5)     # 1^2 + 2^2 + 3^2 + 4^2 + 5^2 = 55\n",
        "\n",
        "    def test_impossible_cases(self):\n",
        "        self.assertEqual(pyramid(2), \"It is impossible\")  # Нет решения\n",
        "        self.assertEqual(pyramid(3), \"It is impossible\")  # Нет решения\n",
        "        self.assertEqual(pyramid(6), \"It is impossible\")  # Нет решения\n",
        "        self.assertEqual(pyramid(10), \"It is impossible\") # Нет решения\n",
        "        self.assertEqual(pyramid(20), \"It is impossible\") # Нет решения\n",
        "\n",
        "    def test_negative_and_zero(self):\n",
        "        self.assertEqual(pyramid(0), \"It is impossible\")  # 0 нельзя построить\n",
        "        self.assertEqual(pyramid(-1), \"It is impossible\") # Отрицательные числа невозможны\n",
        "\n",
        "if __name__ == '__main__':\n",
        "    unittest.main()"
      ]
    },
    {
      "cell_type": "markdown",
      "metadata": {
        "id": "KeKgmIdAQMEJ"
      },
      "source": [
        "# Задача 8\n",
        "Функция принимает на вход положительное число и определяет является ли оно сбалансированным, т.е. сумма цифр до средних равна сумме цифр после. Средними в случае нечетного числа цифр считать одну цифру, в случае четного - две средних. Написать тесты для кода"
      ]
    },
    {
      "cell_type": "code",
      "execution_count": null,
      "metadata": {
        "id": "gMAAqtqlQrZt"
      },
      "outputs": [],
      "source": [
        "import unittest\n",
        "\n",
        "def is_balanced_number(n):\n",
        "    # Преобразуем число в строку\n",
        "    num_str = str(n)\n",
        "    length = len(num_str)\n",
        "\n",
        "    # Определяем индексы для средних цифр\n",
        "    if length % 2 == 0:\n",
        "        mid1 = length // 2 - 1\n",
        "        mid2 = mid1 + 1\n",
        "        left_sum = sum(int(num_str[i]) for i in range(mid1 + 1))\n",
        "        right_sum = sum(int(num_str[i]) for i in range(mid2, length))\n",
        "    else:\n",
        "        mid = length // 2\n",
        "        left_sum = sum(int(num_str[i]) for i in range(mid))\n",
        "        right_sum = sum(int(num_str[i]) for i in range(mid + 1, length))\n",
        "\n",
        "    return left_sum == right_sum\n",
        "\n",
        "class TestBalancedNumber(unittest.TestCase):\n",
        "    def test_balanced_numbers(self):\n",
        "        self.assertTrue(is_balanced_number(123321))   \n",
        "        self.assertTrue(is_balanced_number(1234321))  \n",
        "        self.assertTrue(is_balanced_number(12321))   \n",
        "        self.assertTrue(is_balanced_number(0)) \n",
        "\n",
        "    def test_unbalanced_numbers(self):\n",
        "        self.assertFalse(is_balanced_number(123456)) \n",
        "        self.assertFalse(is_balanced_number(1234567)) \n",
        "\n",
        "    def test_single_digit(self):\n",
        "        self.assertTrue(is_balanced_number(7))   \n",
        "\n",
        "if __name__ == '__main__':\n",
        "    unittest.main()\n"
      ]
    }
  ],
  "metadata": {
    "colab": {
      "provenance": []
    },
    "kernelspec": {
      "display_name": "Python 3",
      "name": "python3"
    },
    "language_info": {
      "name": "python"
    }
  },
  "nbformat": 4,
  "nbformat_minor": 0
}
